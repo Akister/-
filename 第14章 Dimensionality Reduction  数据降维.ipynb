{
 "cells": [
  {
   "cell_type": "markdown",
   "metadata": {},
   "source": [
    "## Dimensionality Reduction 数据降维\n",
    "\n",
    "需进行数据降维的主要原因：\n",
    "\n",
    "1.数据压缩（节省存储、计算、、、等资源）\n",
    "\n",
    "2.数据可视化\n",
    "\n",
    "## Principal Component Analysis(PCA)\n",
    "\n",
    "从$n$维降到$k$维：需要找到$k$个向量c使得样本数据映射到此$k$个向量时候，映射误差最小\n",
    "\n",
    "**算法描述**\n",
    "\n",
    "针对训练样本$x^{(1)},x^{(2)},\\cdots,x^{(m)}$，将$n$维数据降维至$k$维：\n",
    "\n",
    "$\\quad$1.数据预处理(特征缩放(feature scaling)/平均值归一化(mean normalization))\n",
    "\n",
    "$\\quad$$\\quad$令$\\mu_j=\\frac{1}{m}\\sum_{i=1}^{m}x_j^{(i)}$\n",
    "  \n",
    "$\\quad$$\\quad$将每个样本的特征$x_j^{(i)}$进行替换$x_j-\\mu_j$\n",
    "\n",
    "$\\quad$如果不同特征的值范围相差过大，需进行特征缩放以将每个特征都处于可比较的范围\n",
    "\n",
    "$\\quad$2.计算协方差矩阵('Covariance Martrix')\n",
    "$$\\Sigma=\\frac{1}{m}*X^T*X$$\n",
    "\n",
    "$\\quad$3.计算$\\Sigma$的特征向量('Eigenvector'，计算方法为Singular Value Decomposition)\n",
    "\n",
    "$$[U,S,V]=svd(Sigma)$$\n",
    "\n",
    "$\\quad$4.从$U$中取前$k$列即为所求的映射向量$(u^{(1)},u^{(2)},\\cdots,u^{(k)})$\n",
    "\n",
    "$$U=\\left[\\begin{array}{ccc}\\vdots \\quad \\vdots \\quad \\cdot \\quad \\vdots \\quad \\cdot \\quad \\vdots  \\\\ u^{(1)} \\  \\ u^{(2)} \\ \\cdot \\ \\ \\ \\ u^{(k)}  \\ \\ \\ \\cdot \\ \\ \\ \\  u^{(n)} \\\\ \\vdots \\quad \\vdots \\quad \\cdot \\quad \\vdots \\quad \\cdot \\quad \\vdots \\end{array}\\right]$$\n",
    "\n",
    "$\\quad$5.则降维后的样本特征为：\n",
    "\n",
    "$$z^{(i)}=\\left[\\begin{array}{ccc}\\vdots \\quad \\vdots \\quad \\cdot \\quad \\vdots \\\\ u^{(1)} \\  \\ u^{(2)} \\ \\cdot \\ \\ \\ \\ u^{(k)} \\\\ \\vdots \\quad \\vdots \\quad \\cdot \\quad \\vdots \\end{array}\\right]^Tx^{(i)}=\\left[\\begin{array}{ccc} \\cdots  \\ (u^{(1)})^T \\cdots \\\\ \\cdots \\ (u^{(2)})^T \\cdots \\\\ \\vdots \\\\ \\cdots \\ (u^{(k)})^T \\cdots \\end{array}\\right]x^{(i)}$$"
   ]
  },
  {
   "cell_type": "markdown",
   "metadata": {},
   "source": [
    "## 降维的逆操作\n",
    "\n",
    "假设针对$n$维样本$x^{(1)},x^{(2)},\\cdots,x^{(m)}$经过降维至$k$维样本$z^{(1)},z^{(2)},\\cdots,z^{(m)}$\n",
    "\n",
    "从$z^{(1)},z^{(2)},\\cdots,z^{(m)}$到$x^{(1)},x^{(2)},\\cdots,x^{(m)}$过程为：\n",
    "\n",
    "$$x^{(i)}\\simeq x^{(i)}_{approx}=\\left[\\begin{array}{ccc}\\vdots \\quad \\vdots \\quad \\cdot \\quad \\vdots \\\\ u^{(1)} \\  \\ u^{(2)} \\ \\cdot \\ \\ \\ \\ u^{(k)} \\\\ \\vdots \\quad \\vdots \\quad \\cdot \\quad \\vdots \\end{array}\\right]z^{(i)}$$"
   ]
  },
  {
   "cell_type": "markdown",
   "metadata": {},
   "source": [
    "## Choosing k  降维的维度选择\n",
    "\n",
    "一般地，降维的最终目的为找到满足$$\\frac{\\frac{1}{m}\\sum_{i=1}^{m}\\|x^{(i)}-x_{approx}^{(i)}\\|^2}{\\frac{1}{m}\\sum_{i=1}^{m}\\|x^{(i)}\\|^2}\\le0.01$$\n",
    "的最小的$k$，即最少需保留原有样本的99%的样本方差（99% Variance retained），视需要而定可设置为保留95%、90%、85%等等\n",
    "\n",
    "**算法描述**\n",
    "\n",
    "$\\quad$1.首先尝试$k=1$;\n",
    "\n",
    "$\\quad$2.然后计算出$U_{reduce},z^{(1)},z^{(2)},\\cdots,z^{(m)},x_{approx}^{(1)},x_{approx}^{(2)},\\cdots,x_{approx}^{(m)}$\n",
    "\n",
    "$\\quad$3.然后检查是否满足$$\\frac{\\frac{1}{m}\\sum_{i=1}^{m}\\|x^{(i)}-x_{approx}^{(i)}\\|^2}{\\frac{1}{m}\\sum_{i=1}^{m}\\|x^{(i)}\\|^2}\\le0.01$$\n",
    "\n",
    "若不满足，令$k$自增重新从第1步执行\n",
    "\n",
    "#### 简单算法\n",
    "\n",
    "在PCA算法中执行第3步即计算$[U,S,V]=svd(Sigma)$时得到$S$，\n",
    "对于给定的$k$，有$$\\frac{\\frac{1}{m}\\sum_{i=1}^{m}\\|x^{(i)}-x_{approx}^{(i)}\\|^2}{\\frac{1}{m}\\sum_{i=1}^{m}\\|x^{(i)}\\|^2}=1-\\frac{\\sum_{i=1}^kS_{ii}}{\\sum_{i=1}^nS_{ii}}$$\n",
    "\n",
    "即只需在PCA算法执行到第3步后对$k$计算取满足$$\\frac{\\sum_{i=1}^kS_{ii}}{\\sum_{i=1}^nS_{ii}}\\geq0.99$$的最小的$k$\n",
    "\n",
    "#### 注意事项\n",
    "\n",
    "1.关于$x^{(i)}\\rightarrow z^{(i)}$的映射只能在训练集上运行PCA得到，然后在交叉验证数据集和测试集使用同一映射进行降维；\n",
    "\n",
    "2.数据降维不建议用于解决过拟合（Over-fitting）的问题；\n",
    "\n",
    "3.数据降维只在需要时（加速计算、内存/存储不够、需视觉显示数据）进行，常规情况下不建议一上来就进行数据降维，因为数据降维丢弃了部分有用信息。"
   ]
  },
  {
   "cell_type": "markdown",
   "metadata": {},
   "source": []
  }
 ],
 "metadata": {
  "anaconda-cloud": {},
  "kernelspec": {
   "display_name": "Python [default]",
   "language": "python",
   "name": "python3"
  },
  "language_info": {
   "codemirror_mode": {
    "name": "ipython",
    "version": 3
   },
   "file_extension": ".py",
   "mimetype": "text/x-python",
   "name": "python",
   "nbconvert_exporter": "python",
   "pygments_lexer": "ipython3",
   "version": "3.5.2"
  }
 },
 "nbformat": 4,
 "nbformat_minor": 1
}
