{
 "cells": [
  {
   "cell_type": "markdown",
   "metadata": {
    "collapsed": true
   },
   "source": [
    "## Supervised Learning\n",
    "\n",
    "    right answer given(给出了正确答案)，即最终训练得到的算法对训练集样本预测应该得到与给定数据集一样的结果  \n",
    "    \n",
    "#### regression\n",
    "\n",
    "    Predict continuous valued output-预测连续值\n",
    "    \n",
    "#### classification\n",
    "\n",
    "    Predict discrete valued output(0 or 1)-预测离散值\n",
    "    \n",
    "## Unsupervied Learning\n",
    "\n",
    "    数据集未显式地给出标签或者数据根本没有标签，同时得到数据集的时候我们并不知道应该对数据集该做什么。典型算法是聚类算法，即决定数据集中的数据分属不同的群/类\n",
    "    \n"
   ]
  }
 ],
 "metadata": {
  "anaconda-cloud": {},
  "kernelspec": {
   "display_name": "Python [default]",
   "language": "python",
   "name": "python3"
  },
  "language_info": {
   "codemirror_mode": {
    "name": "ipython",
    "version": 3
   },
   "file_extension": ".py",
   "mimetype": "text/x-python",
   "name": "python",
   "nbconvert_exporter": "python",
   "pygments_lexer": "ipython3",
   "version": "3.5.2"
  }
 },
 "nbformat": 4,
 "nbformat_minor": 1
}
