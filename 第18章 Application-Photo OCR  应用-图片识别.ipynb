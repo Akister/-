{
 "cells": [
  {
   "cell_type": "markdown",
   "metadata": {},
   "source": [
    "## Application:Photo OCR  应用：图片识别\n",
    "\n",
    "Photo OCR的模块流程：\n",
    "\n",
    "$Image\\ \\to Text \\ Detection \\ \\to Character \\ Segementation \\ \\to Character \\ Recognition $\n",
    "\n",
    "## Sliding Window 滑动窗口\n",
    "\n",
    "第一个模块中，使用不同步长和大小的滑动窗口从图像中取出像素块进行$Text \\ Detection$，若图像中存在文字则将文字所在像素点以相同比例的块标注以便后续模块进行计算\n",
    "\n",
    "第二个模块中，使用不同步长的一维滑动窗口将文字块分块进行$Character \\ Segmentation$(分类器：需正确找出滑动窗口中存在空格，以进行字母分割，方便后面模块进行字母识别)\n",
    "\n",
    "获取更多训练样本的方法：\n",
    "\n",
    "1.人工合成样本（在原有样本上进行无序的噪声添加，或进行不规律的变换）；\n",
    "\n",
    "2.手动收集或标记样本；\n",
    "\n",
    "3.雇佣他人收集样本\n",
    "\n",
    "## Ceiling Analysis 上限分析\n",
    "\n",
    "在完整的机器学习算法中，尝试进行上限分析以确定将资源投入能真正对算法性能表现有很大提升的模块中。（以人工计算或真实结果作为测试模块的替代）\n",
    "\n",
    "以Photo OCR为例：\n",
    "\n",
    "假设整个系统在完成之后的准确率为86%，测试时若省略第一模块，直接人工计算将第一步的正确结果传给后续模块发现算法的准确率为89%，接着对第二个模块进行省略，即人工将前一模块的正确结果传给此模块的后续模块，将发现算法的准确率提升为98%，接着第三个模块进行准确结果替换发现系统的准确率为100%。\n",
    "\n",
    "因此即需将资源投入到改进第二个模块的性能就能拿显著的提升整个系统的性能表现。"
   ]
  },
  {
   "cell_type": "markdown",
   "metadata": {},
   "source": []
  }
 ],
 "metadata": {
  "anaconda-cloud": {},
  "kernelspec": {
   "display_name": "Python [default]",
   "language": "python",
   "name": "python3"
  },
  "language_info": {
   "codemirror_mode": {
    "name": "ipython",
    "version": 3
   },
   "file_extension": ".py",
   "mimetype": "text/x-python",
   "name": "python",
   "nbconvert_exporter": "python",
   "pygments_lexer": "ipython3",
   "version": "3.5.2"
  }
 },
 "nbformat": 4,
 "nbformat_minor": 1
}
