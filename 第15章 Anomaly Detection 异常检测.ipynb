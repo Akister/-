{
 "cells": [
  {
   "cell_type": "markdown",
   "metadata": {},
   "source": [
    "## Anomaly Detection 异常检测系统\n",
    "\n",
    "Density Estimation 密度估计\n",
    "\n",
    "本章试图建立一个异常检测系统，实现一个模型估计每个样本异常概率$p(x^{(i)})$，若存在$p(x^{(i)})\\leq \\epsilon$则将该样本标记为异常；\n",
    "\n",
    "应用场景：网站欺诈检测，加工良品检测等"
   ]
  },
  {
   "cell_type": "markdown",
   "metadata": {},
   "source": [
    "## Gaussian Distribution/Normal Distribution 高斯分布/正态分布\n",
    "\n",
    "对于$x\\in \\mathbb{R}$，如果$x$服从均值$\\mu$，方差$\\sigma^2$的高斯分布则记为：\n",
    "$$x\\sim N(\\mu,\\sigma^2)$$\n",
    "则：\n",
    "$$p(x)=p(x;\\mu,\\sigma^2)=\\frac{1}{\\sqrt{2\\pi}\\sigma}exp(-\\frac{(x-\\mu)^2}{2\\sigma^2})=\\frac{1}{\\sqrt{2\\pi}\\sigma}e^{-\\frac{(x-\\mu)^2}{2\\sigma^2}}$$\n",
    "其中：\n",
    "$$\\mu=\\sum_{i=1}^mx^{(i)}$$\n",
    "$$\\sigma^2=\\frac{1}{m}\\sum_{i=1}^m(x^{(i)}-\\mu)^2$$"
   ]
  },
  {
   "cell_type": "markdown",
   "metadata": {
    "collapsed": true
   },
   "source": [
    "## Anamoly Detection 异常检测系统算法描述\n",
    "\n",
    "1.选择参与检测的特征$x_{（i）}$;\n",
    "\n",
    "2.计算每个参数对应的$\\mu_1,\\mu_2,\\cdots,\\mu_n,\\sigma_1,\\sigma_2,\\cdots,\\sigma_n$:\n",
    "$$\\mu_j=\\frac{1}{m}\\sum_{i=1}^mx_{j}^{(i)}$$\n",
    "$$\\sigma_j^2=\\frac{1}{m}\\sum_{i=1}^{m}(x_j^{(i)}-\\mu_j)^2$$\n",
    "\n",
    "3.对于需要检测的新样本计算：\n",
    "$$p(x)=p(x_1;\\mu_1,\\sigma_1^2)\\times\\cdots\\times p(x_n;\\mu_n,\\sigma_n^2)=\\prod_{j=1}^{n}p(x_j;\\mu_j,\\sigma_j^2)=\\prod_{j=1}^n\\frac{1}{\\sqrt{2\\pi}\\sigma_j}exp(-\\frac{(x_j-\\mu_j)^2}{2\\sigma_j^2})$$\n",
    "假设对于设定好的$\\epsilon$，若有：\n",
    "$p(x)<\\epsilon$，则将样本标记为异常。\n",
    "\n",
    "算法评估通常使用F1-Score来评估（正太分布中存在数据倾斜）"
   ]
  },
  {
   "cell_type": "markdown",
   "metadata": {},
   "source": [
    "#### Anomaly Detection 与 Supervised  Algorithm的使用场景分类\n",
    "\n",
    "1.异常检测系统适用于大量数据正常和一小部分数据不正常，即通常使用于样本倾斜的场景；\n",
    "\n",
    "2.监督学习算法需要相当数量的正常数据和不正常数据来识别两者之间的差别；\n",
    "\n",
    "3.异常检测可以检测出多种不正常，而不仅仅是与正常相反的不正常，即算法很难只从正常样本中学得异常样本的结构；\n",
    "\n",
    "#### 异常检测的使用细节\n",
    "\n",
    "1.对于不满足高斯分布的特征，可尝试进行变换使特征近似于服从高斯分布：\n",
    "$log(x),log(x+c),\\sqrt{x},x^{\\frac{1}{c}}$\n",
    "\n",
    "2.若异常检测出现异常的概率过大，将需要分析参与检测的特征，取出可以特征或增加有效特征；"
   ]
  },
  {
   "cell_type": "markdown",
   "metadata": {},
   "source": [
    "## Multivariate Gaussian Distribution  多变量正态分布\n",
    "\n",
    "对于样本$x\\in \\mathbb{R}^n$，相应的参数为$\\mu \\in \\mathbb{R}^n,\\Sigma \\in \\mathbb{R}^{n\\times n}$，有：\n",
    "$$p(x;\\mu,\\Sigma)=\\frac{1}{(2\\pi)^{\\frac{n}{2}}|\\Sigma|^{\\frac{1}{2}}}exp\\left(-\\frac{1}{2}(x-\\mu)^T\\Sigma^{-1}(x-\\mu)\\right)$$\n",
    "其中$|\\Sigma|$为协方差矩阵$\\Sigma$的行列式。"
   ]
  },
  {
   "cell_type": "markdown",
   "metadata": {},
   "source": [
    "## Aomaly Detection with the multivariate Gaussian 多变量正态分布异常检测\n",
    "针对训练样本$x^{(1)},x^{(2)},\\cdots,x^{(n)}$，有：\n",
    "\n",
    "1.计算参数：\n",
    "$$\\mu=\\frac{1}{m}\\sum_{i=1}^{m}x^{(i)}$$\n",
    "$$\\Sigma=\\frac{1}{m}\\sum_{i=1}^m(x^{i}-\\mu)(x^{(i)}-\\mu)^T$$\n",
    "\n",
    "2.对于新样本$x$，计算：\n",
    "$$p(x)=\\frac{1}{(2\\pi)^{\\frac{n}{2}}|\\Sigma|^{\\frac{1}{2}}}exp\\left(-\\frac{1}{2}(x-\\mu)^T\\Sigma^{-1}(x-\\mu)\\right)$$\n",
    "\n",
    "3.若有$p(x)<\\epsilon$，则将样本标记为异常."
   ]
  },
  {
   "cell_type": "markdown",
   "metadata": {},
   "source": [
    "## 普通异常检测与多变量异常检测使用场景分析\n",
    "\n",
    "#### 普通异常检测系统  \n",
    "\n",
    "$$p(x)=p(x_1;\\mu_1,\\sigma_1^2)\\times\\cdots\\times p(x_n;\\mu_n,\\sigma_n^2)$$\n",
    "\n",
    "1.当样本特征中存在反常的组合值需手动创建新特征来捕捉异常；\n",
    "\n",
    "2.更节省计算资源;\n",
    "\n",
    "3.当面临训练样本数量$m$很小时依然有效;\n",
    "\n",
    "#### 多变量异常检测系统\n",
    "$$p(x)=\\frac{1}{(2\\pi)^{\\frac{n}{2}}|\\Sigma|^{\\frac{1}{2}}}exp\\left(-\\frac{1}{2}(x-\\mu)^T\\Sigma^{-1}(x-\\mu)\\right)$$\n",
    "\n",
    "1.可以自动的捕捉特征之间的相关性；\n",
    "\n",
    "2.计算开销更为昂贵；\n",
    "\n",
    "3.必须使得训练样本数量$m>n$，也即$\\Sigma$必须是可逆的；\n"
   ]
  },
  {
   "cell_type": "markdown",
   "metadata": {},
   "source": []
  }
 ],
 "metadata": {
  "anaconda-cloud": {},
  "kernelspec": {
   "display_name": "Python [default]",
   "language": "python",
   "name": "python3"
  },
  "language_info": {
   "codemirror_mode": {
    "name": "ipython",
    "version": 3
   },
   "file_extension": ".py",
   "mimetype": "text/x-python",
   "name": "python",
   "nbconvert_exporter": "python",
   "pygments_lexer": "ipython3",
   "version": "3.5.2"
  }
 },
 "nbformat": 4,
 "nbformat_minor": 1
}
