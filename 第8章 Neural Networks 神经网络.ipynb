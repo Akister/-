{
 "cells": [
  {
   "cell_type": "markdown",
   "metadata": {},
   "source": [
    "## Neuron and Brain \n",
    "#### 'One Learning Algorithm'假设\n",
    "**Neuro Rewiring Experiments**:专门处理声音的神经组织经过重新接线，接入眼睛的信号输入，此块神经组织将会学会处理视觉信号。其他如处理触觉信号的神经组织经过接线输入视觉信号后，此块神经组织将学会处理视觉信号。结论：我们将任何人体信号感受器接入大脑的任何一块地方，大脑都将能够处理这种信号。\n",
    "\n",
    "**即：大脑的每一块神经组织存在一种“算法”，这个算法可以处理各种不同的输入信号。**\n",
    "\n",
    "## Model Representation 模型表示\n",
    "单层神经元模型,**一个Logistic unit如下图所示**:$$\\begin{array}{ccc}x_1\\searrow\\\\\\vdots\\rightarrow\\\\x_3\\nearrow\\end{array}\\bigcirc\\longrightarrow h_{\\theta}(x)$$\n",
    "\n",
    "其中$x_1,x_2,\\cdots,x_n$为输入信号，组成输入层（Input layer），中间的圆圈表示类似神经元细胞的主体部分，作为处理函数，$h_{\\theta}(x)$为输出层(Output layer)。\n",
    "\n",
    "多层神经网络模型为：除了输入层和输出层，中间还有隐藏层（Hidden layer）（可以有多个隐藏层），每个隐藏层有单层神经元模型的圆圈部分组成，每个输入信号都会接入下一层的每个处理函数，\n",
    "\n",
    "人工神经元一般具有一个激活函数，一般为Sigmoid函数(Logistic函数)：\n",
    "$$g(z)=\\frac{1}{1+e^{-z}}$$\n",
    "\n",
    "\n",
    "\n",
    "符号定义：\n",
    "\n",
    "$a_i^{(j)}$：第$j$层的第$i$个Logistic unit的激活函数计算得到值；\n",
    "\n",
    "$\\theta_j$：从第$j$层到第$j+1$层的函数映射的参数矩阵；\n",
    "\n",
    "如下图所示的模型：$$\\begin{array}{ccc}x_1\\longrightarrow\\nearrow\\searrow a_1^{(2)}\\searrow\\\\x_2\\longrightarrow\\nearrow\\searrow a_2^{(2)}\\rightarrow\\\\x_3\\longrightarrow\\nearrow\\searrow a_3^{(2)}\\nearrow\\end{array}\\bigcirc\\longrightarrow h_{\\theta}(x)$$\n",
    "中间$x_1,x_2,x_3$都有到$a_1^{(2)},a_2^{(2)},a_3^{(2)}$的输入线，即第1层（输入层）到第2层（隐藏层）之间任意线号都输入任意unit中\n",
    "\n",
    "则模型表示为，默认每个样本矢量已经添加全1的列$x_0$：\n",
    "$$a_1^{(2)}=g(\\theta_{10}^{(1)}x_0+\\theta_{11}^{(1)}x_1+\\theta_{12}^{(1)}x_2+\\theta_{13}^{(1)}x_3)$$\n",
    "$$a_2^{(2)}=g(\\theta_{20}^{(1)}x_0+\\theta_{21}^{(1)}x_1+\\theta_{22}^{(1)}x_2+\\theta_{23}^{(1)}x_3)$$\n",
    "$$a_3^{(2)}=g(\\theta_{30}^{(1)}x_0+\\theta_{31}^{(1)}x_1+\\theta_{32}^{(1)}x_2+\\theta_{33}^{(1)}x_3)$$\n",
    "$$h_{\\theta}(x)=a_1^{(3)}=g(\\theta_{10}^{(2)}a_0^{(2)}+\\theta_{11}^{(2)}a_1^{(2)}+\\theta_{12}^{(2)}a_2^{(2)}+\\theta_{13}^{(2)}a_3^{(2)})$$\n",
    "\n",
    "**规律**：若神经网络在第$j$层有$s_j$个units,第$j+1$层有$s_{j+1}$个units，则$\\theta_j$的维度为：$s_{j+1}*(s_j+1)$。"
   ]
  },
  {
   "cell_type": "markdown",
   "metadata": {
    "collapsed": true
   },
   "source": [
    "## 神经网络向量表示\n",
    "对于：\n",
    "$$a_1^{(2)}=g(\\theta_{10}^{(1)}x_0+\\theta_{11}^{(1)}x_1+\\theta_{12}^{(1)}x_2+\\theta_{13}^{(1)}x_3)$$\n",
    "$$a_2^{(2)}=g(\\theta_{20}^{(1)}x_0+\\theta_{21}^{(1)}x_1+\\theta_{22}^{(1)}x_2+\\theta_{23}^{(1)}x_3)$$\n",
    "$$a_3^{(2)}=g(\\theta_{30}^{(1)}x_0+\\theta_{31}^{(1)}x_1+\\theta_{32}^{(1)}x_2+\\theta_{33}^{(1)}x_3)$$\n",
    "$$h_{\\theta}(x)=a_1^{(3)}=g(\\theta_{10}^{(2)}a_0^{(2)}+\\theta_{11}^{(2)}a_1^{(2)}+\\theta_{12}^{(2)}a_2^{(2)}+\\theta_{13}^{(2)}a_3^{(2)})$$\n",
    "\n",
    "令：\n",
    "$x=\\left[\\begin{array}{ccc}x_0\\\\x_1\\\\x_2\\\\x_3\\end{array}\\right]$，$a^{(2)}=\\left[\\begin{array}{ccc}a_1^{(2)}\\\\a_2^{(2)}\\\\a_3^{(2)}\\end{array}\\right]$，\n",
    "$\\ z^{(2)}=\\left[\\begin{array}{ccc}z_1^{(2)}\\\\z_2^{(2)}\\\\z_3^{(2)}\\end{array}\\right]=\\left[\\begin{array}{ccc}z_1^{(2)}=\\theta_{10}^{(1)}x_0+\\theta_{11}^{(1)}x_1+\\theta_{12}^{(1)}x_2+\\theta_{13}^{(1)}x_3\\\\z_2^{(2)}=\\theta_{20}^{(1)}x_0+\\theta_{21}^{(1)}x_1+\\theta_{22}^{(1)}x_2+\\theta_{23}^{(1)}x_3\\\\z_3^{(2)}=\\theta_{30}^{(1)}x_0+\\theta_{31}^{(1)}x_1+\\theta_{32}^{(1)}x_2+\\theta_{33}^{(1)}x_3\\end{array}\\right]$\n",
    "\n",
    "则有：\n",
    "\n",
    "$z^{(2)}=\\theta^{(1)}x$,\n",
    "\n",
    "$a^{(2)}=g(z^{(2)})$，\n",
    "\n",
    "然后添加：\n",
    "\n",
    "$a_0^{(2)}=1$，即$a^{(2)}=\\left[\\begin{array}{ccc}a_0^{(2)}\\\\a_1^{(2)}\\\\a_2^{(2)}\\\\a_3^{(2)}\\end{array}\\right]$，\n",
    "\n",
    "则输出层可以表示为：\n",
    "\n",
    "$z^{(3)}=\\theta^{(2)}a^{(2)}$\n",
    "\n",
    "$h_{\\theta}(x)=a^{(3)}=g(z^{(3)})$"
   ]
  },
  {
   "cell_type": "markdown",
   "metadata": {},
   "source": [
    "## 前向传播神经网络\n",
    "神经网络从输入层得到的原始特征经过隐藏层的计算得到更为复杂的算法特征，从而算法以隐藏层学习得到的特征输入得到最终的假设函数。"
   ]
  }
 ],
 "metadata": {
  "anaconda-cloud": {},
  "kernelspec": {
   "display_name": "Python [default]",
   "language": "python",
   "name": "python3"
  },
  "language_info": {
   "codemirror_mode": {
    "name": "ipython",
    "version": 3
   },
   "file_extension": ".py",
   "mimetype": "text/x-python",
   "name": "python",
   "nbconvert_exporter": "python",
   "pygments_lexer": "ipython3",
   "version": "3.5.2"
  }
 },
 "nbformat": 4,
 "nbformat_minor": 1
}
