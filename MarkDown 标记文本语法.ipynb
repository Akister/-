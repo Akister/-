{
 "cells": [
  {
   "cell_type": "markdown",
   "metadata": {},
   "source": [
    "标题--几级标题就前面加几个#，后面加标题文本  \n",
    "显示效果  \n",
    "\n",
    "# 一级标题\n",
    "## 二级标题\n",
    "###  三级标题\n",
    "#### 四级标题\n",
    "##### 五级标题\n",
    "###### 六级标题\n",
    "\n",
    "粗体（需要加粗字体前后加2个（**）） \n",
    "**粗体** \n",
    "\n",
    "斜体（需要斜体化的字体前后加1个(*)） \n",
    "*斜体*\n",
    "\n",
    "列表（在文本前面加-）  \n",
    "- 列表1\n",
    "- 列表2\n",
    "- 列表3\n",
    "\n",
    "有序列表（在文本前面加1.,2.,3.）  \n",
    "1. 列表1\n",
    "2. 列表2\n",
    "3. 列表3\n",
    "\n",
    "插入链接（语法为[显示文本](链接地址)）  \n",
    "[百度](http://www.baidu.com)\n",
    "\n",
    "插入图片（语法为![显示文本](连接地址)]）  \n",
    "![凤凰网](http://p3.ifengimg.com/a/2016/0516/5fe93593da14bccsize17_w120_h164.png)\n",
    "\n",
    "引用他人文字（语法为在他人文字前加>,如为多行则每行前皆需添加>）  \n",
    ">雄关漫道真如铁，而今迈步从头越！\n",
    "\n",
    "代码引用（如引用代码为一行，无需分段，用'代码’，如为多行，用'''代码段'''）  \n",
    "\n",
    "'代码1'\n",
    "\n",
    "'''\n",
    "代码1\n",
    "\n",
    "代码2\n",
    "'''\n",
    "\n",
    "表格  \n",
    "\n",
    "| Tables    |  Are      | Cool      |\n",
    "| ---------- | :---------: | ----------: |\n",
    "| 4353     |  324235    | weegr     |\n",
    "\n",
    "dog | bird | cat\n",
    "--- | ---- | ---\n",
    "foo | foo  | foo\n",
    "bar | bar  | bar\n",
    "\n",
    "\n",
    "\n",
    "\n",
    "\n"
   ]
  },
  {
   "cell_type": "code",
   "execution_count": null,
   "metadata": {
    "collapsed": true
   },
   "outputs": [],
   "source": []
  }
 ],
 "metadata": {
  "anaconda-cloud": {},
  "kernelspec": {
   "display_name": "Python [default]",
   "language": "python",
   "name": "python3"
  },
  "language_info": {
   "codemirror_mode": {
    "name": "ipython",
    "version": 3
   },
   "file_extension": ".py",
   "mimetype": "text/x-python",
   "name": "python",
   "nbconvert_exporter": "python",
   "pygments_lexer": "ipython3",
   "version": "3.5.2"
  }
 },
 "nbformat": 4,
 "nbformat_minor": 1
}
