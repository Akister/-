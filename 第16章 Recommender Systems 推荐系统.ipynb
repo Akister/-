{
 "cells": [
  {
   "cell_type": "markdown",
   "metadata": {},
   "source": [
    "## Recommender Systems 推荐系统 \n",
    "\n",
    "## 预测电影评分\n",
    "设$n_u$为参与评分的用户数量；\n",
    "\n",
    "$n_m$为参与评分的电影数量；\n",
    "\n",
    "$r(i,j)=1$如果用户$j$对电影$i$进行了评分；\n",
    "\n",
    "$y^{(i,j)}$为用户$j$对电影$i$的评分；\n",
    "\n"
   ]
  },
  {
   "cell_type": "markdown",
   "metadata": {},
   "source": [
    "## Content Based Recommendations 基于内容推荐系统\n",
    "已经获取待推荐物品内容的相关特征$x^{(1)}，x^{(2)}，\\cdots,x^{(n_u)}$和部分用户对部分电影的评分，例如电影的类型特征等，目标为获取各个用户对各个电影的喜好向量$\\theta^{(1)},\\theta^{(2)},\\cdots,\\theta^{(n_m)}$\n",
    "\n",
    "采取的方法为对于每一个用户$j$，经计算学习得到一个参数向量$\\theta_j$，这个参数向量用于预测用户$j$对电影$i$的评分$(\\theta^{(i)})^Tx^{(i)}$。\n",
    "即相对于一个用户$j$而言，相当于对用户的电影评分进行一个线性回归。\n",
    "\n",
    "相关参数：\n",
    "\n",
    "$x^{(i)}$电影$i$的特征向量；\n",
    "\n",
    "$\\theta^{(i)}$为用户$j$的参数向量；\n",
    "\n",
    "$m^{(j)}$为用户$j$进行过评分的电影数量；\n",
    "\n",
    "相对于一个用户而言，为学习得到参数向量$\\theta^{(j)}$:\n",
    "    $$\\min \\limits_{\\theta^{(j)}} \\ \\frac{1}{2m^{(j)}}\\sum_{i:r(i,j)=1}\\left((\\theta^{(j)})^T(x^{(i)})-y^{(i,j)}\\right)^2+\\frac{\\lambda}{2m^{(j)}}\\sum_{k=1}^{n}(\\theta_k^{(j)})^2$$\n",
    "    \n",
    "通常将$m^{(j)}$省略，即只需求参数向量$\\theta^{(j)}$满足：\n",
    "$$\\min \\limits_{\\theta^{(j)}} \\ \\frac{1}{2}\\sum_{i:r(i,j)=1}\\left((\\theta^{(j)})^T(x^{(i)})-y^{(i,j)}\\right)^2+\\frac{\\lambda}{2}\\sum_{k=1}^{n}(\\theta_k^{(j)})^2$$\n",
    "\n",
    "组合起来，为了取得$\\theta^{(1)},\\theta^{(2)},\\cdots,\\theta^{(n_u)}$：\n",
    "$$\\min \\limits_{\\theta^{(1)},\\cdots,\\theta^{(n_u)}} \\ \\frac{1}{2}\\sum_{j=1}^{n_u}\\sum_{i:r(i,j)=1}\\left((\\theta^{(j)})^T(x^{(i)})-y^{(i,j)}\\right)^2+\\frac{\\lambda}{2}\\sum_{j=1}^{n_u}\\sum_{k=1}^{n}(\\theta_k^{(j)})^2  \\quad \\cdots\\cdots *1$$     \n",
    "\n",
    "梯度下降迭代变量为：\n",
    "$$\\theta_k^{(j)}:=\\theta_k^{(j)}-\\alpha\\sum_{i;r(i,j)=1}((\\theta^{(j)})^T(x^{(i)})-y^{(i,j)})x_k^{(i)}  \\quad (for \\ k=0)$$\n",
    "$$\\theta_k^{(j)}:=\\theta_k^{(j)}-\\alpha\\left(\\sum_{i;r(i,j)=1}((\\theta^{(j)})^T(x^{(i)})-y^{(i,j)})x_k^{(i)}+\\lambda\\theta_k^{(j)}\\right)  \\quad (for \\ k\\neq0)$$"
   ]
  },
  {
   "cell_type": "markdown",
   "metadata": {},
   "source": [
    "##  Collaborative Filtering 协作过滤\n",
    "已经获取了参与评分用户对各电影的喜好向量$\\theta^{(1)},\\theta^{(2)},\\cdots,\\theta^{(n_m)}$和部分用户对部分电影的评分，目的为获取各个电影的内容特征$x^{(1)}，x^{(2)}，\\cdots,x^{(n_u)}$。\n",
    "\n",
    "即在给定$\\theta^{(1)},\\theta^{(2)},\\cdots,\\theta^{(n_m)}$下，需经学习得到$x^{(1)}$：\n",
    "$$\\min \\limits_{x^{(i)}} \\ \\frac{1}{2}\\sum_{j:r(i,j)=1}\\left((\\theta^{(j)})^T(x^{(i)})-y^{(i,j)}\\right)^2+\\frac{\\lambda}{2}\\sum_{k=1}^{n}(x_k^{(j)})^2$$\n",
    "\n",
    "组合起来，即为：\n",
    "$$\\min \\limits_{\\theta^{(1)},\\cdots,\\theta^{(n_m)}} \\ \\frac{1}{2}\\sum_{i=1}^{n_m}\\sum_{j:r(i,j)=1}\\left((\\theta^{(j)})^T(x^{(i)})-y^{(i,j)}\\right)^2+\\frac{\\lambda}{2}\\sum_{i=1}^{n_m}\\sum_{k=1}^{n}(x_k^{(j)})^2   \\quad \\cdots\\cdots *2$$           \n",
    "\n",
    "梯度下降迭代变量为：\n",
    "$$x_k^{(i)}:=x_k^{(i)}-\\alpha\\sum_{j;r(i,j)=1}((\\theta^{(j)})^T(x^{(i)})-y^{(i,j)})\\theta_k^{(i)}  \\quad (for \\ k=0)$$\n",
    "$$x_k^{(i)}:=x_k^{(i)}-\\alpha\\left(\\sum_{j;r(i,j)=1}((\\theta^{(j)})^T(x^{(i)})-y^{(i,j)})\\theta_k^{(i)}+\\lambda x_k^{(i)}\\right)  \\quad (for \\ k\\neq0)$$\n",
    "\n",
    "由于$*1$与$*2$可以交替进行以改进推荐系统的性能，因此将二者结合起来一起参与计算：\n",
    "$$\\min J(\\theta^{(1)},\\cdots,\\theta^{(n_m)},x^{(1)}，x^{(2)}，\\cdots,x^{(n_u)})=\\min \\limits_{\\theta^{(1)},\\cdots,\\theta^{(n_m)},x^{(1)}，x^{(2)}，\\cdots,x^{(n_u)}} \\quad \\frac{1}{2}\\sum_{(i,j):r(i,j)=1}\\left((\\theta^{(j)})^T(x^{(i)})-y^{(i,j)}\\right)^2+\\frac{\\lambda}{2}\\sum_{i=1}^{n_m}\\sum_{k=1}^{n}(x_k^{(j)})^2+\\frac{\\lambda}{2}\\sum_{j=1}^{n_u}\\sum_{k=1}^{n}(\\theta_k^{(j)})^2   $$\n",
    "\n",
    "从而，不用再考虑为每个样本矩阵添加一列1值（如有需要算法可自行学得），整个协作过滤算法描述为：\n",
    "\n",
    "1.将$\\theta^{(1)},\\cdots,\\theta^{(n_m)},x^{(1)}，x^{(2)}，\\cdots,x^{(n_u)}$进行随机初始化（比较小的值）；\n",
    "\n",
    "2.$J(\\theta^{(1)},\\cdots,\\theta^{(n_m)},x^{(1)}，x^{(2)}，\\cdots,x^{(n_u)})$进行最优化计算，例如梯度下降法为,对于每一个$j=1,\\cdots,n_u,i=1,\\cdots,n_m$：\n",
    "$$x_k^{(i)}:=x_k^{(i)}-\\alpha\\left(\\sum_{j;r(i,j)=1}((\\theta^{(j)})^T(x^{(i)})-y^{(i,j)})\\theta_k^{(j)}+\\lambda x_k^{(i)}\\right) $$\n",
    "$$\\theta_k^{(j)}:=\\theta_k^{(j)}-\\alpha\\left(\\sum_{i;r(i,j)=1}((\\theta^{(j)})^T(x^{(i)})-y^{(i,j)})x_k^{(i)}+\\lambda\\theta_k^{(j)}\\right) $$\n",
    "3.对于新的具有喜好向量$\\theta$的用户，他对电影（已学得内容特征向量$x$）的评分可预测为$\\theta^Tx$"
   ]
  },
  {
   "cell_type": "markdown",
   "metadata": {},
   "source": [
    "##  Vectorization:Low Rank Matrix Factorization 低秩矩阵分解\n",
    "协作过滤推荐的向量化表示形式：\n",
    "原始用户预测评分表示形式为：\n",
    "$$\\left[\\begin{array}{ccc}(\\theta^{(1)})^T(x^{(1)})& (\\theta^{(2)})^T(x^{(1)})&\\cdots&(\\theta^{(n_u)})^T(x^{(1)}) \\\\ (\\theta^{(1)})^T(x^{(2)}) & (\\theta^{(2)})^T(x^{(2)})&\\cdots&(\\theta^{(n_u)})^T(x^{(2)}) \\\\ \\vdots&\\vdots&\\vdots& \\vdots \\\\ (\\theta^{(1)})^T(x^{(n_m)})& (\\theta^{(2)})^T(x^{(n_m)})&\\cdots& (\\theta^{(n_u)})^T(x^{(n_m)})\\end{array}\\right]$$\n",
    "\n",
    "令$$X=\\left[\\begin{array}{ccc}\\cdots (x^{(1)})^T \\cdots \\\\ \\cdots (x^{(2)})^T \\cdots \\\\ \\vdots \\\\ \\cdots (x^{(n_u)})^T \\cdots \\end{array}\\right]$$\n",
    "$$\\Theta=\\left[\\begin{array}{ccc}\\cdots (\\theta^{(1)})^T \\cdots \\\\ \\cdots (\\theta^{(2)})^T \\cdots \\\\ \\vdots \\\\ \\cdots (\\theta^{(n_m)})^T \\cdots \\end{array}\\right]$$\n",
    "\n",
    "则用户的预测评分为：$$X\\Theta^T$$\n",
    "\n",
    "评价两部电影之间的相关性指标（内容特征向量之间的距离）为：\n",
    "$$\\|x^{(i)}-x^{(j)}\\|^2$$\n",
    "若两部电影之间的距离足够小，则可以认为这两部电影是相似的。\n",
    "\n",
    "#### Mean Normalization 均值归一化\n",
    "当面对新用户暂未对任何电影做出评分，则将现所有电影的评分做相对于参与评分人数的均值，将这个评分均值作为用户的预测评分。即假定此时用户相对其他用户既不喜欢即讨厌这部电影。\n",
    "\n",
    "以矩阵为例：$$Y=\\left[\\begin{array}{ccc}5&5&0& 0& ?\\\\5& ?&?& 0 &?\\\\?& 4& 0& ?& ?\\\\0& 0& 5& 4& ?\\\\0& 0& 5& 0& ?\\end{array}\\right]$$\n",
    "平均值为：$$\\mu=\\left[\\begin{array}{ccc}2.5\\\\2.5\\\\2\\\\2.25\\\\1.25\\end{array}\\right]$$\n",
    "将原始评分矩阵减去平均值为：\n",
    "$$Y=\\left[\\begin{array}{ccc}2.5&2.5&-2.5&-2.5& ?\\\\2.5& ?&?& -2.5 &?\\\\?& 2& -2& ?& ?\\\\-2.25& -2.25& 2.75& 1.75& ?\\\\-1.25& -1.25& 3.75& -1.25& ?\\end{array}\\right]$$\n",
    "此时用户$j$对电影$i$的预测评分为：\n",
    "$$(\\theta^{(j)})^T(x^{(i)})+\\mu_i$$\n",
    "对于暂未有过评价的新用户的预测评分为：\n",
    "$\\mu_i$"
   ]
  },
  {
   "cell_type": "markdown",
   "metadata": {},
   "source": []
  }
 ],
 "metadata": {
  "anaconda-cloud": {},
  "kernelspec": {
   "display_name": "Python [default]",
   "language": "python",
   "name": "python3"
  },
  "language_info": {
   "codemirror_mode": {
    "name": "ipython",
    "version": 3
   },
   "file_extension": ".py",
   "mimetype": "text/x-python",
   "name": "python",
   "nbconvert_exporter": "python",
   "pygments_lexer": "ipython3",
   "version": "3.5.2"
  }
 },
 "nbformat": 4,
 "nbformat_minor": 1
}
