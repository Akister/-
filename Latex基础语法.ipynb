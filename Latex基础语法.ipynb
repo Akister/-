{
 "cells": [
  {
   "cell_type": "markdown",
   "metadata": {},
   "source": [
    "数学公式：\n",
    "1.公式前后需要加上$或\\(和\\)，此类公式不单独占一行：\n",
    "    如$f(x)=3x+7$及\\(f(x)=3x+7\\)\n",
    "  块公式（此类公式独占一行）：\n",
    "      $$f(x)=3x+7$$\n",
    "\t  \n",
    "2.上标和下标：\n",
    "    用^表示上标，用_表示下标\n",
    "\t$$\\sum_{i=1}^n a_i=0$$\n",
    " \n",
    "3.在公式中插入文本,使用\\mbox(文本)：\n",
    "    $$\\mbox{对任意的$x>0$},\\mbox{有 }f(x)>0.$$\n",
    "\t\n",
    "4.分数，\\frac{分子}{分母}：\n",
    "    $\\frac{1}{2}$\n",
    "\t\n",
    "5.开方，\\sqrt[n]{表达式},即表示对表达式开n次方，如开平方则为\\sqrt{表达式}:\n",
    "    $\\sqrt[2]{16}$\n",
    "\t$\\sqrt{16}$\n",
    "\t\n",
    "6.省略号，\\ldots表示跟文本底线对齐的省略号，\\cdots表示跟文本中线对齐的省略号\n",
    "    $\\ldots$\n",
    "\t$\\cdots$\n",
    "\n",
    "7.括号及分割符，要显示大号的括号及分隔符时，对应使用\\left和\\right\n",
    "    $$f(x,y,z)=3y^2 z \\left(3+\\frac{7x+5}{1+y^2}\\right).$$\n",
    "\t\n",
    "  \\left. 和\\right.进行匹配\n",
    "\t$$\\left.\\frac{du}{dx}\\right|_{x=0}.$$ \n",
    "\t\n",
    "8.多行数学公式\n",
    "   \\begin{eqnarray*}\n",
    "   \\cos 2\\theta & = & \\cos^2 \\theta - \\sin^2 \\theta \\\\\n",
    "   & = & 2 \\cos^2 \\theta - 1. (&表示在此处对齐)\n",
    "   \\end{eqnarray*}\n"
   ]
  },
  {
   "cell_type": "code",
   "execution_count": null,
   "metadata": {
    "collapsed": true
   },
   "outputs": [],
   "source": []
  },
  {
   "cell_type": "code",
   "execution_count": null,
   "metadata": {
    "collapsed": true
   },
   "outputs": [],
   "source": []
  }
 ],
 "metadata": {
  "anaconda-cloud": {},
  "kernelspec": {
   "display_name": "Python [default]",
   "language": "python",
   "name": "python3"
  },
  "language_info": {
   "codemirror_mode": {
    "name": "ipython",
    "version": 3
   },
   "file_extension": ".py",
   "mimetype": "text/x-python",
   "name": "python",
   "nbconvert_exporter": "python",
   "pygments_lexer": "ipython3",
   "version": "3.5.2"
  }
 },
 "nbformat": 4,
 "nbformat_minor": 1
}
