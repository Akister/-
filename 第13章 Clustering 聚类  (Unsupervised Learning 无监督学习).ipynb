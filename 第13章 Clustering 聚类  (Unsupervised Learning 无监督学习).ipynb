{
 "cells": [
  {
   "cell_type": "markdown",
   "metadata": {},
   "source": [
    "## Unsupervised Learning 无监督学习\n",
    "\n",
    "给出的样本数据不包含任何标签，即给出的样本类似  $x^{(1)},x^{(2)},\\cdots,x^{(m)} $,需要算法自行从样本数据找出样本的某种结构('$Structure$')\n",
    "\n",
    "## Clustering 聚类\n",
    "\n",
    "样本数据可以被分成多个（大于等于2）不同的簇"
   ]
  },
  {
   "cell_type": "markdown",
   "metadata": {},
   "source": [
    "## K-means Algorithm   K均值算法\n",
    "基本思想：\n",
    "\n",
    "1.对给定的样本先随机抽取簇中心点;\n",
    "\n",
    "2.计算所有样本到这些簇中心点的距离，对于每个样本，它所属的簇为它到各个簇中心点距离的最小值对应的簇，这样为每个样本都指定了一个所属的簇；\n",
    "\n",
    "3.接下来移动簇中心点，对于每一个簇中心点，它的值更新为所有属于这个簇的样本的均值；\n",
    "\n",
    "4.重复执行直至簇中心点不再移动。\n",
    "\n",
    "算法描述：\n",
    "\n",
    "$\\quad Randomly \\ initialize \\ K \\ cluster \\ centroids \\ \\mu_1,\\mu_2,\\cdots,\\mu_K \\in \\mathbb{R}^n$\n",
    "\n",
    "$\\quad Repeat \\ \\{ $\n",
    "\n",
    "$\\qquad for \\ i=1 \\ to \\ m $\n",
    "\n",
    "$\\qquad \\quad c^{(i)}:=index(from \\ 1 \\ to \\ K) \\ of \\ cluster \\ centroid \\ closest \\ to \\ x^{(i)}$\n",
    "\n",
    "$\\qquad for \\ k=1 \\ to \\ K$\n",
    "\n",
    "$\\qquad \\quad \\mu_k:=average(mean) \\ of \\ points \\ assigned \\ to \\ cluster \\ k$\n",
    "\n",
    "其中$c^{(i)}$为样本所属簇的标记，即样本$x^{(i)}$所属的簇为$\\mu_{c^{(i)}}$\n"
   ]
  },
  {
   "cell_type": "markdown",
   "metadata": {},
   "source": [
    "**K-means Algorithm Cost Function**\n",
    "$$J(c^{(1)},c^{(2)},\\cdots,c^{(m)},\\mu_1,\\mu_2,\\cdots,\\mu_K)=\\frac{1}{m}\\sum_{i=1}^{m}\\|x^{(i)}-\\mu_{c^{(i)}}\\|^2$$\n",
    "\n",
    "即迭代过程需一直求(下次迭代所得会比这次的小):\n",
    "$$\\min \\limits_{c^{(1)},\\cdots,c^{(m)},\\ \\mu_1,\\cdots,\\mu_K} J(c^{(1)},c^{(2)},\\cdots,c^{(m)},\\mu_1,\\mu_2,\\cdots,\\mu_K)$$\n",
    "\n",
    "当K-means 算法中聚类的类别过少时（2～4个），需进行多次随机初始化K-means算法，以确保能找到全局最优的聚类\n",
    "\n",
    "#### Elbow Method \n",
    "\n",
    "将K-means的Cost Function和对应聚类的类别数目画图，若图中对应某一个聚类类别数目的Cost Function有明显的下降（明显的拐点-手肘），则选择那个聚类类别数目\n",
    "\n",
    "#### 更多时候，聚类类别数目需手动根据聚类目的选择"
   ]
  },
  {
   "cell_type": "markdown",
   "metadata": {
    "collapsed": true
   },
   "source": []
  }
 ],
 "metadata": {
  "anaconda-cloud": {},
  "kernelspec": {
   "display_name": "Python [default]",
   "language": "python",
   "name": "python3"
  },
  "language_info": {
   "codemirror_mode": {
    "name": "ipython",
    "version": 3
   },
   "file_extension": ".py",
   "mimetype": "text/x-python",
   "name": "python",
   "nbconvert_exporter": "python",
   "pygments_lexer": "ipython3",
   "version": "3.5.2"
  }
 },
 "nbformat": 4,
 "nbformat_minor": 1
}
