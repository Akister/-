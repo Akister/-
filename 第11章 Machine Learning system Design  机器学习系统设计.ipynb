{
 "cells": [
  {
   "cell_type": "markdown",
   "metadata": {},
   "source": [
    "## Buliding a Spam Classifier  设计一个垃圾邮件识别系统\n",
    "Supervised Learning.有监督学习\n",
    "\n",
    "$x$为每一封邮件的特征，$y$为邮件的识别结果($y=1$即邮件为垃圾邮件，$y=0$则邮件为非垃圾邮件)\n",
    "\n",
    "特征$x$：选择邮件中的100个词语来识别邮件是否为垃圾邮件\n",
    "\n",
    "**经验**：选择邮件中出现频率最高的词语进行识别\n",
    "\n",
    "潜在改进方法：\n",
    "\n",
    "1.收集更多数据\n",
    "\n",
    "2.基于邮件路由信息提取复杂的特征（eg.特定的发件人）\n",
    "\n",
    "3.基于邮件体提取复杂特征（eg.单词的单复数，各种形态）\n",
    "\n",
    "4.基于探测错误拼写提取复杂特征\n",
    "\n",
    "## 推荐方式 \n",
    "\n",
    "1.选择一个你可以很快实现的简单算法，然后实现阿他并且在交叉验证数据集上测试；\n",
    "\n",
    "2.画出学习曲线来决定下一步动作改进算法（增加样本，增加训练特征等）\n",
    "\n",
    "3.手动的在交叉验证数据集上分析分析算法计算错误的样本"
   ]
  },
  {
   "cell_type": "markdown",
   "metadata": {
    "collapsed": true
   },
   "source": [
    "## 处理倾斜数据\n",
    "\n",
    "**倾斜数据**：两种类型数据中有一种数据出现概率非常稀少（0.05%或更少），当把全部数据都分类为一种类型时，分类算法的整体表现不会变差（甚至可能变好），即分类算法的预测准确率会上升\n",
    "\n",
    "**$Precision$(查准率)/$Recall$(查全率)**\n",
    "\n",
    "|      |       |   真实    |  类别         |    \n",
    "|--------|:--------:|:-----------:|:-----------------:|\n",
    "|      |       |$1$       |  $0$\n",
    "|**预测**|$1$|$True \\ Positive$  |  $False \\ Positive$\n",
    "|**类别**|$0$|$False \\ Negative$ |  $True \\ Negative$\n",
    "\n",
    "**$Precision$(查准率)**\n",
    "$$Precision=\\frac{True \\ Positive}{True \\ Positive+False \\ Positive}=\\frac{True \\ Positive}{no.of \\ Predicted \\ Positive}$$\n",
    "其中：$Precision$表示预测结果为$Positive$中有多少比例是真实类别也是$Positive$\n",
    "\n",
    "**$Recall$(查全率)**\n",
    "$$Recall=\\frac{True \\ Positive}{True \\ Positive+False \\ Negative}=\\frac{True \\ Positive}{no.of \\ Actual \\ Positive}$$\n",
    "其中：$Recall$表示预测结果为$Positive$中有多大比例预测分类结果是正确的\n",
    "\n",
    "## F1 Score （F1值）\n",
    "\n",
    "$$F1 \\ Score:=2\\frac{Prescision*Recall}{Prescision+Recall}=2\\frac{PR}{P+R}$$"
   ]
  },
  {
   "cell_type": "markdown",
   "metadata": {
    "collapsed": true
   },
   "source": [
    "## 合理的数据\n",
    "\n",
    "有用的数据测试：在给定具有一定数量的特征样本下，专业领域内的人类专家是否可以准确的预测出样本的类别？（如果不够，每个样本需增加多少特征）\n",
    "\n",
    "## 合理的学习算法\n",
    "\n",
    "1.使用计算样本大数量特征的算法（即算法计算参数大量）；\n",
    "\n",
    "2.使用大数量的训练数据集"
   ]
  },
  {
   "cell_type": "code",
   "execution_count": null,
   "metadata": {
    "collapsed": true
   },
   "outputs": [],
   "source": []
  }
 ],
 "metadata": {
  "anaconda-cloud": {},
  "kernelspec": {
   "display_name": "Python [default]",
   "language": "python",
   "name": "python3"
  },
  "language_info": {
   "codemirror_mode": {
    "name": "ipython",
    "version": 3
   },
   "file_extension": ".py",
   "mimetype": "text/x-python",
   "name": "python",
   "nbconvert_exporter": "python",
   "pygments_lexer": "ipython3",
   "version": "3.5.2"
  }
 },
 "nbformat": 4,
 "nbformat_minor": 1
}
