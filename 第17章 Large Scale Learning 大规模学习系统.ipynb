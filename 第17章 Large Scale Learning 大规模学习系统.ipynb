{
 "cells": [
  {
   "cell_type": "markdown",
   "metadata": {},
   "source": [
    "## Large Scale Learning 大规模学习系统\n",
    "\n",
    "为验证算法是否会随着训练数据量的增加而改善性能，可以尝试画出在交叉验证集和测试集上的学习误差曲线，若出现了High Variance的情况则增加训练数据可有效提高算法准确度，否则增加数据量并不会提升算法表现\n",
    "\n",
    "## Stochastic Gradient Descent 随机梯度下降 \n",
    "\n",
    "在一次梯度下降迭代中，每次使用1个样本参与计算梯度\n",
    "\n",
    "以线性回归为例\n",
    "\n",
    "假设函数为：$$h_{\\theta}(x)=\\sum_{j=0}^{n}\\theta_jx_j$$\n",
    "\n",
    "Cost Fucntion为：$$J_{train}(\\theta)=\\frac{1}{2m}\\sum_{i=1}^{m}(h_{\\theta}(x)-y^{(i)})^2$$\n",
    "正常梯度下降(Batch Gradient Descent)算法为：\n",
    "\n",
    "$\\quad Repeat \\ \\{ $\n",
    "\n",
    "$\\qquad \\theta_j:=\\theta_j-\\alpha \\frac{1}{m}\\sum_{i=1}^m(h_{\\theta}(x)-y^{(i)})x_j^{(i)}$\n",
    "\n",
    "$\\qquad (for \\ every \\ j=0,1,\\cdots,n)$\n",
    "\n",
    "$\\quad \\}$\n",
    "\n",
    "随机梯度下降(Stochastic Gradient Descent)算法为：\n",
    "\n",
    "令  $cost(\\theta,(x^{(i)},y^{(i)}))=\\frac{1}{2}(h_{\\theta}(x)-y^{(i)})^2$\n",
    "\n",
    "则Cost Function变为：$J_{train}(\\theta)=\\frac{1}{m}\\sum_{i=1}^mcost(\\theta,(x^{(i)},y^{(i)}))$\n",
    "\n",
    "$1.\\quad Randomly \\ shuffle(reorder) \\ training \\ examples$\n",
    "\n",
    "$2.\\quad Repeat \\{$\n",
    "\n",
    "$\\qquad for \\ i:=1,\\cdots,m\\{$\n",
    "\n",
    "$\\qquad \\quad \\theta_j:=\\theta_j-\\alpha(h_{\\theta}(x^{(i)})-y^{(i)})x_j^{(i)}$\n",
    "\n",
    "$\\qquad \\qquad (for \\ every \\ j=0,1,\\cdots,n)$\n",
    "\n",
    "$\\qquad \\}$\n",
    "\n",
    "$\\quad \\ \\ \\}$\n",
    "\n",
    "判断随机梯度下降是否收敛：\n",
    "\n",
    "1.在使用新样本更新$\\theta$前计算出前面得到的$\\theta$在本新样本上的代价函数，然后画出在每一大次迭代循环后画出前面的累积的代价函数的平均值的图来判断\n",
    "\n",
    "2.在迭代后期代价函数已经在某一个值上上下浮动时候，可以随着迭代次数慢慢的减小学习速率$\\alpha$将获得代价函数的更小的浮动数值（更好的收敛）\n",
    "\n",
    "\n",
    "优点：当面临大数据量时，每次迭代一个样本参与计算，计算资源需求小（内存空间、读取速度等）\n"
   ]
  },
  {
   "cell_type": "markdown",
   "metadata": {},
   "source": [
    "## Mini-batch Gradient Descent 小批量梯度下降\n",
    "\n",
    "在一次梯度下降迭代中，每次选择b($b=2\\to100$)个样本参与计算梯度\n",
    "\n",
    "Mini-batch Gradient Descent算法为：\n",
    "\n",
    "以$b=10,m=1000$为例：\n",
    "\n",
    "$1.\\quad Randomly \\ shuffle(reorder) \\ training \\ examples$\n",
    "\n",
    "$2.\\quad Repeat \\{$\n",
    "\n",
    "$\\qquad for \\ i:=1,11,21,31,\\cdots,991\\{$\n",
    "\n",
    "$\\qquad \\quad \\theta_j:=\\theta_j-\\alpha\\frac{1}{b}\\sum_{k=i}^{i+9}(h_{\\theta}(x^{(i)})-y^{(i)})x_j^{(i)}$\n",
    "\n",
    "$\\qquad \\qquad (for \\ every \\ j=0,1,\\cdots,n)$\n",
    "\n",
    "$\\qquad \\}$\n",
    "\n",
    "$\\quad \\ \\ \\}$\n",
    "\n",
    "优点：当面临大数据量时，每次选择b个样本参与计算，同样计算资源需求小，与随机梯度下降法的优点为：在将所有变量向量化后，方便并行计算"
   ]
  },
  {
   "cell_type": "markdown",
   "metadata": {},
   "source": []
  }
 ],
 "metadata": {
  "anaconda-cloud": {},
  "kernelspec": {
   "display_name": "Python [default]",
   "language": "python",
   "name": "python3"
  },
  "language_info": {
   "codemirror_mode": {
    "name": "ipython",
    "version": 3
   },
   "file_extension": ".py",
   "mimetype": "text/x-python",
   "name": "python",
   "nbconvert_exporter": "python",
   "pygments_lexer": "ipython3",
   "version": "3.5.2"
  }
 },
 "nbformat": 4,
 "nbformat_minor": 1
}
